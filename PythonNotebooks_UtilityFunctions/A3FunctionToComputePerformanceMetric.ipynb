{
 "cells": [
  {
   "cell_type": "markdown",
   "metadata": {},
   "source": [
    "## A.3 Function to Compute Performance Metric"
   ]
  },
  {
   "cell_type": "code",
   "execution_count": null,
   "metadata": {},
   "outputs": [],
   "source": [
    "# ==================================================================================\n",
    "\n",
    "def get_performance_metrics(X, y_true, y_pred):\n",
    "    \n",
    "    \"\"\" \n",
    "    Return performance metrics for clustering algorithms based on different criteria\n",
    "    \n",
    "    Parameters:\n",
    "    -----------\n",
    "    \n",
    "    X: an array shape: (n_samples, n_attributes)\n",
    "        It is data matrix\n",
    "        \n",
    "        \n",
    "    y_true: an array shape: n_samples\n",
    "        It is the correct cluster labels of the data points in X    \n",
    "        \n",
    "    y_pred: an array shape: n_samples\n",
    "        It is the labels assigned by a clustering algorithm\n",
    "        \n",
    "        \n",
    "    Return:\n",
    "    -------\n",
    "    \n",
    "    Silh_l2, Silh_l1, Silh_cos: a tuple\n",
    "        These are average Silhouette scores computed using 'euclidean', \n",
    "        'manhattan', and 'cosine' distance metrics respectively from left to right\n",
    "    \n",
    "    \n",
    "    \n",
    "    \"\"\"\n",
    "#     print('Predicted clusters: {}'.format(np.unique(y_pred)))\n",
    "    \n",
    "        \n",
    "    if len(np.unique(y_pred)) > 1 and len(np.unique(y_pred)) < X.shape[0] - 1 :    \n",
    "        Silh_l2 = metrics.silhouette_score(X, y_pred, metric='euclidean')\n",
    "    #     FMS     = metrics.fowlkes_mallows_score(y_true, y_pred)\n",
    "    # JS metric is sensitive to changing of cluster labels    \n",
    "    #     JS  = metrics.jaccard_score(y_true, y_pred, average='weighted')\n",
    "\n",
    "    #     ARI = metrics.adjusted_rand_score(y_true, y_pred)\n",
    "    #     AMI = metrics.adjusted_mutual_info_score(y_true, y_pred, average_method='max')\n",
    "\n",
    "        Silh_l1 = metrics.silhouette_score(X, y_pred, metric='manhattan')\n",
    "        Silh_cos = metrics.silhouette_score(X, y_pred, metric='cosine')\n",
    "    else:\n",
    "#         print('Algorithm failed to detects at least two clusters!!!')\n",
    "        Silh_l2, Silh_l1, Silh_cos = 0, 0, 0 # value assigend to clusters randomly\n",
    "    \n",
    "    return Silh_l2, Silh_l1, Silh_cos #, FMS, ARI, AMI"
   ]
  }
 ],
 "metadata": {
  "kernelspec": {
   "display_name": "Python 3",
   "language": "python",
   "name": "python3"
  },
  "language_info": {
   "codemirror_mode": {
    "name": "ipython",
    "version": 3
   },
   "file_extension": ".py",
   "mimetype": "text/x-python",
   "name": "python",
   "nbconvert_exporter": "python",
   "pygments_lexer": "ipython3",
   "version": "3.6.7"
  }
 },
 "nbformat": 4,
 "nbformat_minor": 2
}
