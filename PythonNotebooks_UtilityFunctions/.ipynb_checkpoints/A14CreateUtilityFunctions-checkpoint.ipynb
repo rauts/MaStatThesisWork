{
 "cells": [
  {
   "cell_type": "markdown",
   "metadata": {},
   "source": [
    "### A.14 Create Utility Functions"
   ]
  },
  {
   "cell_type": "code",
   "execution_count": 1,
   "metadata": {},
   "outputs": [],
   "source": [
    "def check_cluster_size(labels):\n",
    "    \"\"\"\n",
    "    Return cluster labels and corresponding sample sizes\n",
    "    \n",
    "    Parameter:\n",
    "    ----------\n",
    "    \n",
    "    labels: an one dimensional array\n",
    "    \n",
    "        It contains the labels of data point in the dataset created by a clustering algorthm\n",
    "        \n",
    "        \n",
    "    Return:\n",
    "    -------\n",
    "    \n",
    "    cluster_label, cluster_size: a tuple\n",
    "        \n",
    "        cluster_labels: an array containing unique cluster labels\n",
    "        cluster_size : an array holding the number of data points in each cluster corresponing in cluster_labels\n",
    "    \n",
    "    \"\"\"\n",
    "    \n",
    "    cluster_label, cluster_size = np.unique(labels, return_counts=True)\n",
    "    \n",
    "    return cluster_label, cluster_size\n",
    "\n",
    "\n",
    "\n",
    "def print_parameters(test_para):\n",
    "    \"\"\"Display the keys and values in the dictionary\"\"\"\n",
    "    \n",
    "    \n",
    "    for key, value in test_para.items():\n",
    "        if key!= 'score_l2':\n",
    "            print('{} = {}, '.format(key, value), end=\" \")\n",
    "    return None\n",
    "\n",
    "\n",
    "def shuffle_columns(data_tuple):\n",
    "    \"\"\" Shuffle the columns of the given dataset \"\"\"\n",
    "    X, y = data_tuple\n",
    "    #  shuffle columns    \n",
    "    shuffled_comumn_index = np.random.choice(list(range(X.shape[1])), size = X.shape[1], replace=False)\n",
    "    X = X[:, shuffled_comumn_index]\n",
    "#     print(\"Shuffled Comumn Index: \\n\")\n",
    "#     print(shuffled_comumn_index)\n",
    "    \n",
    "    return X,y\n",
    "    "
   ]
  },
  {
   "cell_type": "code",
   "execution_count": null,
   "metadata": {},
   "outputs": [],
   "source": []
  }
 ],
 "metadata": {
  "kernelspec": {
   "display_name": "Python 3",
   "language": "python",
   "name": "python3"
  },
  "language_info": {
   "codemirror_mode": {
    "name": "ipython",
    "version": 3
   },
   "file_extension": ".py",
   "mimetype": "text/x-python",
   "name": "python",
   "nbconvert_exporter": "python",
   "pygments_lexer": "ipython3",
   "version": "3.6.7"
  }
 },
 "nbformat": 4,
 "nbformat_minor": 2
}
