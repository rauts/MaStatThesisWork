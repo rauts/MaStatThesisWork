{
 "cells": [
  {
   "cell_type": "markdown",
   "metadata": {},
   "source": [
    "# DO NOT RUN THIS NOTEBOOK!!!\n",
    "\n",
    "Use other notebook to run this file. Please read "
   ]
  },
  {
   "cell_type": "markdown",
   "metadata": {},
   "source": [
    "### Import Python Modules"
   ]
  },
  {
   "cell_type": "markdown",
   "metadata": {},
   "source": [
    "Notebook file `import_modules.ipynb` contains commands to imports all the necessary python modules such as `numpy`, `scipy`, `pandas`, `sklearn`, `matplotlib` etc. \n",
    "\n",
    "\n",
    "!!! `CAUTION`: Note that this notebook is called or run from the another notebooks that are two level inside the directory hierarchy. To run other notebooks (see below) from this notebook we need to give the reference paths from where this notebook is run rather than the directory reference to where this notebook resides. Thus, we provide `../../` to go out of the current directory to reference to the files (notebooks) to be execute. \n",
    "\n",
    "If you run the cells below from the current notebook, they will produce error, so you should not run this notebook rather you need to call this notebook from the other nootbooks.\n",
    "\n",
    "For example, the notebook file `E3_AnalyzeEffectOf-VaryingClusterSizes` runs this notebook. So, this means the location of the file `E3_AnalyzeEffectOf-VaryingClusterSizes` should be two level below the location of this notebook. \n",
    "\n",
    "Following command is used to run this notebook `InitializationOfFunctions` \n",
    "\n",
    "`%run ../../PythonNotebook_InitializationOfFunctions/InitializationOfFunctions.ipynb`"
   ]
  },
  {
   "cell_type": "code",
   "execution_count": null,
   "metadata": {},
   "outputs": [],
   "source": [
    "%run ../../ImportPythonModules/import_modules.ipynb"
   ]
  },
  {
   "cell_type": "markdown",
   "metadata": {},
   "source": [
    "#### Python Module Versions"
   ]
  },
  {
   "cell_type": "code",
   "execution_count": 2,
   "metadata": {},
   "outputs": [
    {
     "name": "stdout",
     "output_type": "stream",
     "text": [
      "Sklearn vesrion:            0.21.1\n",
      "Pandas version:             0.23.4\n",
      "Numpy version:              1.16.3\n",
      "Scipy verson:               1.2.1\n"
     ]
    }
   ],
   "source": [
    "# # Display versions of python modules \n",
    "# print(\"Sklearn vesrion:           \", sk.__version__)\n",
    "# print(\"Pandas version:            \",pd.__version__)\n",
    "# print(\"Numpy version:             \", np.__version__)\n",
    "# print(\"Scipy verson:              \", sc.__version__)"
   ]
  },
  {
   "cell_type": "markdown",
   "metadata": {},
   "source": [
    "### Import Other Python Notebooks"
   ]
  },
  {
   "cell_type": "markdown",
   "metadata": {},
   "source": [
    "#### Notebooks related to datasets"
   ]
  },
  {
   "cell_type": "markdown",
   "metadata": {},
   "source": [
    "`A1FunctionToCreateDatasets.ipynb`: contains user-defined functions to create datasets with normally distributed variables. \n",
    "`A11FunctionsToDisplayDatasets.ipynb`: contains user-defined functions to display the datasets."
   ]
  },
  {
   "cell_type": "code",
   "execution_count": 3,
   "metadata": {},
   "outputs": [],
   "source": [
    "%run ../../PythonNotebooks_Datasets/A1FunctionToCreateDatasets.ipynb\n",
    "%run ../../PythonNotebooks_Datasets/A11FunctionsToDisplayDatasets.ipynb"
   ]
  },
  {
   "cell_type": "markdown",
   "metadata": {},
   "source": [
    "#### Notebooks related to utility functions"
   ]
  },
  {
   "cell_type": "markdown",
   "metadata": {},
   "source": [
    "`A2FunctionToCreateSilhouettePlot.ipynb`: displays silhouette plot.   \n",
    "`A3FunctionToComputePerformanceMetric.ipynb`: computes the performance metrices of clustering algorithms."
   ]
  },
  {
   "cell_type": "code",
   "execution_count": 4,
   "metadata": {},
   "outputs": [],
   "source": [
    "%run ../../PythonNotebooks_UtilityFunctions/A2FunctionToCreateSilhouettePlot.ipynb\n",
    "%run ../../PythonNotebooks_UtilityFunctions/A3FunctionToComputePerformanceMetric.ipynb"
   ]
  },
  {
   "cell_type": "markdown",
   "metadata": {},
   "source": [
    "#### Notebooks related to functions to run clustering algorithms"
   ]
  },
  {
   "cell_type": "markdown",
   "metadata": {},
   "source": [
    "`A4FunctionsForKmeanClusteringAlgorithms.ipynb`: contains functions defined to run and experiment with Kmean clustering algorithms. \n",
    "`A5FunctionsForAgglomerativeClusteringAlgorithms.ipynb`: contains functions defined to run and experiment with Agglomerative clustering algorithms.    \n",
    "`A6FunctionsForDBSCAN_ClusteringAlgorithms.ipynb`: contains functions defined to run and experiment with DBSCAN clustering algorithms. \n",
    "`A7FunctionsForSpectralClusteringAlgorithms.ipynb`: contains functions defined to run and experiment with Spectral clustering algorithms. \n",
    "`A8FunctionsForGMMClusteringAlgorithms.ipynb`: contains functions defined to run and experiment with Gaussian Mixture Model clustering algorithms. "
   ]
  },
  {
   "cell_type": "code",
   "execution_count": 5,
   "metadata": {},
   "outputs": [],
   "source": [
    "# Notebooks related to clustering algorithms and their functions\n",
    "%run ../../PythonNotebooks_Algorithms/Kmean/A4FunctionsForKmeanClusteringAlgorithms.ipynb\n",
    "%run ../../PythonNotebooks_Algorithms/Agglomerative/A5FunctionsForAgglomerativeClusteringAlgorithms.ipynb\n",
    "%run ../../PythonNotebooks_Algorithms/DBSCAN/A6FunctionsForDBSCAN_ClusteringAlgorithms.ipynb\n",
    "%run ../../PythonNotebooks_Algorithms/SpectralClustering/A7FunctionsForSpectralClusteringAlgorithms.ipynb\n",
    "%run ../../PythonNotebooks_Algorithms/GMM/A8FunctionsForGMMClusteringAlgorithms.ipynb\n"
   ]
  },
  {
   "cell_type": "markdown",
   "metadata": {},
   "source": [
    "#### Notebooks related to optimizations of clustering algorithms"
   ]
  },
  {
   "cell_type": "code",
   "execution_count": 6,
   "metadata": {},
   "outputs": [],
   "source": [
    "# Notebooks related to optimization of clustering algorithms\n",
    "%run ../../PythonNotebooks_UtilityFunctions/A9FunctionToOptimizeParametersOfClusteringAlgorithms.ipynb\n",
    "%run ../../PythonNotebooks_UtilityFunctions/A10FunctionToRunClusteringAlgorithmsOnA_Dataset.ipynb\n",
    "%run ../../PythonNotebooks_UtilityFunctions/A12FunctionsToDisplayResultsOfClusteringAlgorithms.ipynb\n",
    "%run ../../PythonNotebooks_UtilityFunctions/A14CreateUtilityFunctions.ipynb"
   ]
  },
  {
   "cell_type": "markdown",
   "metadata": {},
   "source": [
    "#### Notebooks related to user-defined function to analyze clustering results"
   ]
  },
  {
   "cell_type": "code",
   "execution_count": 7,
   "metadata": {},
   "outputs": [],
   "source": [
    "# Notebooks realted to user-defined functions to analyze clustering results\n",
    "%run ../../PythonNotebooks_UtilityFunctions/A13FunctionToAnalyzeClusteringAlgorithmsBasedOnDifferentPropertiesOfDatasets.ipynb\n",
    "%run ../../PythonNotebooks_UtilityFunctions/A15FunctionToAnalyzeDatasetPropertyWithSilhouetteScore.ipynb\n"
   ]
  }
 ],
 "metadata": {
  "kernelspec": {
   "display_name": "Python 3",
   "language": "python",
   "name": "python3"
  },
  "language_info": {
   "codemirror_mode": {
    "name": "ipython",
    "version": 3
   },
   "file_extension": ".py",
   "mimetype": "text/x-python",
   "name": "python",
   "nbconvert_exporter": "python",
   "pygments_lexer": "ipython3",
   "version": "3.6.7"
  }
 },
 "nbformat": 4,
 "nbformat_minor": 2
}
