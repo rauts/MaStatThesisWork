{
 "cells": [
  {
   "cell_type": "markdown",
   "metadata": {},
   "source": [
    "## Import Modules"
   ]
  },
  {
   "cell_type": "code",
   "execution_count": 1,
   "metadata": {},
   "outputs": [],
   "source": [
    "# plotting modules\n",
    "import matplotlib\n",
    "import matplotlib.pyplot as plt\n",
    "import matplotlib.cm as cm\n",
    "from matplotlib.patches import Ellipse, Circle # plot ellipse and circle in gmm and km \n",
    "%matplotlib inline\n",
    "\n",
    "from mpl_toolkits.mplot3d import Axes3D # for 3d plots\n",
    "\n",
    "# numpy\n",
    "import numpy as np\n",
    "\n",
    "# pandas\n",
    "import pandas as pd\n",
    "\n",
    "# linear algebra package\n",
    "from numpy import linalg as la\n",
    "\n",
    "# sklearn packages\n",
    "import sklearn as sk\n",
    "from sklearn.preprocessing import StandardScaler\n",
    "from itertools import cycle, islice\n",
    "\n",
    "from sklearn import datasets  # for loading datasets \n",
    "from sklearn import manifold # for using tsne\n",
    "from sklearn import metrics # for computing silhouette scores\n",
    "from sklearn import cluster # for clustering algorithms\n",
    "from sklearn import mixture # for gaussian mixture model\n",
    "from sklearn import decomposition # for pca \n",
    "from sklearn import model_selection # for creating parameter grid\n",
    "from sklearn.neighbors import NearestNeighbors # used to computing knee-graph \n",
    "from sklearn.metrics import pairwise_distances\n",
    "\n",
    "# scipy packages\n",
    "import scipy as sc\n",
    "from scipy.cluster.hierarchy import dendrogram, linkage, cophenet, fcluster\n",
    "from scipy.spatial.distance import pdist, squareform, cdist\n",
    "\n",
    "# scipy stat packages\n",
    "import scipy.stats as ss\n",
    "\n",
    "\n",
    "import warnings, time\n",
    "\n",
    "\n",
    "import inspect # to see the source code \n",
    "\n",
    "np.set_printoptions(precision=5, suppress=True)  # suppress scientific float notation\n",
    "\n",
    "# set the seed Number\n",
    "from numpy.random import RandomState\n",
    "seed_num = 1234567890\n",
    "np.random.seed(seed_num)\n",
    "\n"
   ]
  },
  {
   "cell_type": "code",
   "execution_count": null,
   "metadata": {},
   "outputs": [],
   "source": [
    "# Global variables related to plots\n",
    "# col = ['maroon','olive', 'orange', 'green', 'black','red', 'blue', 'yellow','lime', 'aqua', 'teal', 'purple', 'lightgreen', 'lightblue', 'gray', 'magenta', 'silver', 'INDIANRED','salmon',]\n",
    "\n",
    "colors = ['DarkGreen', 'Orange', 'Blue', 'Brown', 'Teal', \n",
    "          'Indigo', 'Gold', 'Lime', 'Aqua', 'Red', 'Purple', \n",
    "          'LightGreen', 'DarkKhaki' , 'Maroon', 'MediumAquamarine',\n",
    "          'Magenta', 'DeepSkyBlue', 'Grey']\n",
    "\n",
    "# variables for controlling marker shape, size and transparancy in a graph\n",
    "mark = ['$1$', '$2$', '$3$', '$4$', '$5$', '$6$',  '^','+', 'd', '1', 'o', 'x', '>', '3', 'p', 'h', 's', '8', 'v', '<','*']\n",
    "aph = 0.9 # contral the transparancy of colors, higher the value is, less tranceprancy is the colour \n",
    "size = 30 # control the size of the markers\n",
    "\n",
    "# figure width and height\n",
    "f_w = 3.5\n",
    "f_h = 3.5\n"
   ]
  },
  {
   "cell_type": "code",
   "execution_count": null,
   "metadata": {},
   "outputs": [],
   "source": [
    "# Global parameters related to clustering algorithms\n",
    "\n",
    "# Parameter ranges for DBSCAN and Spectral Clustering\n",
    "\n",
    "# DBSCAN\n",
    "eps_range=(0.1, 2)\n",
    "min_point_range=(3, 7)\n",
    "total_point=50\n",
    "\n",
    "# Spectral clustering\n",
    "max_number_of_neighbours = 20"
   ]
  },
  {
   "cell_type": "code",
   "execution_count": 2,
   "metadata": {},
   "outputs": [],
   "source": [
    "# Global parameter for datasets\n",
    "\n",
    "# the number of data points in a cluster\n",
    "n_point = 100"
   ]
  },
  {
   "cell_type": "code",
   "execution_count": null,
   "metadata": {},
   "outputs": [],
   "source": []
  }
 ],
 "metadata": {
  "kernelspec": {
   "display_name": "Python 3",
   "language": "python",
   "name": "python3"
  },
  "language_info": {
   "codemirror_mode": {
    "name": "ipython",
    "version": 3
   },
   "file_extension": ".py",
   "mimetype": "text/x-python",
   "name": "python",
   "nbconvert_exporter": "python",
   "pygments_lexer": "ipython3",
   "version": "3.6.7"
  }
 },
 "nbformat": 4,
 "nbformat_minor": 2
}
